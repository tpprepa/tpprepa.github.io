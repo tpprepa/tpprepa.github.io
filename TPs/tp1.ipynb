{
 "cells": [
  {
   "cell_type": "markdown",
   "id": "e8fede7b-5e4d-4b99-b992-d63e28ba00de",
   "metadata": {},
   "source": [
    "# TP d'introduction au python\n",
    "\n",
    "Bienvenue en cours d'informatique tronc commun. Pendant ce cours, vous manipulerez principalement le language de programmation *Python*.\n",
    "\n",
    "Ce TP a pour objectif de vous familiariser avec les différents éléments du language. \n",
    "\n",
    "La fin du TP contient des exercices supplementaires pour celles et ceux qui seraient déjà familiers avec python. "
   ]
  },
  {
   "cell_type": "markdown",
   "id": "e1c4c626-0208-4cc4-b5e1-864bc4c777de",
   "metadata": {},
   "source": [
    "## Le language python\n",
    "\n",
    "### Commentaires\n",
    "Un premier point avant de débuter : il est possible, en python, d'écrire des commentaires. Un commentaire, c'est un texte qui n'a aucun effet dans le programme : il sert simplement à être lu et à expliquer le fonctionnement du programme. Il est fortement recommandé de commenter votre code lorsque cela vous parait pertinent.\n",
    "\n",
    "Pour écrire un commentaire, il suffit de le précéder de `#`.\n",
    "\n",
    "Dans la suite du TP, vous pourrez voir des commentaires que j'ai ajouté pour clarifier certains points, ainsi que pour indiquer les parties à compléter. \n",
    "\n",
    "### Variables et types\n",
    "\n",
    "En programmation, vous utiliserez constemment des _variables_. Une variable est (comme en mathématiques ou en physique d'ailleurs), une valeur auquel vous donnez un nom. Par exemple : "
   ]
  },
  {
   "cell_type": "code",
   "execution_count": 7,
   "id": "de2bd291-c8a4-4f65-85f6-ec3f69dbe8c0",
   "metadata": {},
   "outputs": [],
   "source": [
    "a = 4\n",
    "\n",
    "bonjour_je_suis_une_variable = \"et je peux contenir du texte ! \""
   ]
  },
  {
   "cell_type": "markdown",
   "id": "25353db5-428d-4023-b91b-7df58e75acf1",
   "metadata": {},
   "source": [
    "On peut ensuite afficher le contenu d'une variable avec la _fonction_ `print`."
   ]
  },
  {
   "cell_type": "code",
   "execution_count": 8,
   "id": "3e7aa4db-7366-4712-8181-b49ee87592ca",
   "metadata": {},
   "outputs": [
    {
     "name": "stdout",
     "output_type": "stream",
     "text": [
      "4\n"
     ]
    }
   ],
   "source": [
    "print(a)"
   ]
  },
  {
   "cell_type": "code",
   "execution_count": 10,
   "id": "db9e6cfb-4b7f-4eda-899d-65740d22d28a",
   "metadata": {},
   "outputs": [],
   "source": [
    "# à compléter : affichez la deuxième variable ici"
   ]
  },
  {
   "cell_type": "markdown",
   "id": "389bd459-de6f-4166-8319-2247fdefb316",
   "metadata": {},
   "source": [
    "En python, les noms de variables doivent commencer par une lettre ou un underscore (`_`), et peuvent ensuite contenir des lettres ou des underscore. \\\n",
    "En mathématiques, on a tendance à utiliser des noms de variables le plus court possible : `n`, `k`, ...\\\n",
    "En informatique, c'est l'inverse ! On préfère avoir des noms de variables explicites, pour que le code soit plus clair. \n",
    "\n",
    "\n",
    "\n",
    "Les valeurs (et donc les variables associées) ont également des _types_. Par exemple, la variable `a` contient un nombre entier. Le type correspondant est `int`.\n",
    "\n",
    "Les types de base de python sont les suivants : \n",
    "- `int` pour les entiers de n'importe quelle taille\n",
    "- `float` pour les nombres \"à virgule flottante\", ou \"flottants\". C'est une approximation des nombre réels, avec un nombre limité de chiffres significatifs. En informatique, on note la virgule avec le `.` (et non pas une virgule), comme en anglais.\n",
    "- `str` pour le texte (ou \"chaine de caractère\" en informatique, \"string\" en anglais). Les chaines de caractères sont écrite entre guillemet, comme vu au dessus.\n",
    "- `bool` pour les booléens, qui sont des valeurs qui valent soit `True` (vrai) soir `False` (faux).\n",
    "- `list` pour les listes de valeurs (que l'on verra plus tard)\n",
    "\n",
    "Vous pouvez récupérer le type d'une valeur `a` avec `type(a)`. (et donc, pour l'afficher, `print(type(a))`)\n",
    "\n",
    "Determinez le type des variables suivantes : "
   ]
  },
  {
   "cell_type": "code",
   "execution_count": 21,
   "id": "ebe2dc9f-d96c-4d46-abcb-d6ac00689e7f",
   "metadata": {},
   "outputs": [],
   "source": [
    "x1 = 3\n",
    "x2 = \"3\"\n",
    "x3 = 3.\n",
    "x4 = 1.5\n",
    "x5 = 1e-10 #notation scientifique : \"1e...\" veut dire \"10 puissance ...\" \n",
    "x6 = False\n",
    "\n",
    "# à compléter : type des variables."
   ]
  },
  {
   "cell_type": "markdown",
   "id": "af9a20fc-20ad-4765-8698-4c5abe2dcb3d",
   "metadata": {},
   "source": [
    "Python est un language typé \"dynamiquement\", c'est à dire que le type d'une variable n'est pas fixé à l'avance et peux changer selon sa valeur. Certains types sont aussi compatibles entre eux : par exemple, on peut additionner un nombre flottant et un nombre entier. \n",
    "\n",
    "Affichez le résultat des opérations suivantes et leurs types : "
   ]
  },
  {
   "cell_type": "code",
   "execution_count": 22,
   "id": "b0040c95-db53-4f27-99c7-2a42be073055",
   "metadata": {},
   "outputs": [],
   "source": [
    "x1 = 3 + 1.5\n",
    "x2 = 12 / 4  #division floattant !\n",
    "x3 = 12 // 4 #division euclidienne\n",
    "x4 = 11 % 4  #reste de la division euclidienne, ou modulo\n",
    "\n",
    "x5 = 3\n",
    "x5 += 1.2    # c'est un raccourcis pour \"x5 = x5 + 1.2\". La même chose existe pour toutes les opérations. \n",
    "\n",
    "x6 = \"Bon\" + \"jour\""
   ]
  },
  {
   "cell_type": "code",
   "execution_count": 15,
   "id": "51fea14b-a802-4128-a047-9287982cdb0c",
   "metadata": {},
   "outputs": [
    {
     "ename": "TypeError",
     "evalue": "unsupported operand type(s) for +: 'int' and 'str'",
     "output_type": "error",
     "traceback": [
      "\u001b[31m---------------------------------------------------------------------------\u001b[39m",
      "\u001b[31mTypeError\u001b[39m                                 Traceback (most recent call last)",
      "\u001b[36mCell\u001b[39m\u001b[36m \u001b[39m\u001b[32mIn[15]\u001b[39m\u001b[32m, line 1\u001b[39m\n\u001b[32m----> \u001b[39m\u001b[32m1\u001b[39m x7 = \u001b[32;43m2\u001b[39;49m\u001b[43m \u001b[49m\u001b[43m+\u001b[49m\u001b[43m \u001b[49m\u001b[33;43m\"\u001b[39;49m\u001b[33;43mBonjour\u001b[39;49m\u001b[33;43m\"\u001b[39;49m \u001b[38;5;66;03m#toutes les opérations ne fonctionnent pas ! \u001b[39;00m\n",
      "\u001b[31mTypeError\u001b[39m: unsupported operand type(s) for +: 'int' and 'str'"
     ]
    }
   ],
   "source": [
    "x7 = 2 + \"Bonjour\" #toutes les opérations ne fonctionnent pas ! "
   ]
  },
  {
   "cell_type": "markdown",
   "id": "e9e8d1b4-29ef-41da-8de5-54019f432b8c",
   "metadata": {},
   "source": [
    "Il est possible de convertir les valeurs entre les types, en écrivant `nom_du_type(valeur)`"
   ]
  },
  {
   "cell_type": "code",
   "execution_count": 18,
   "id": "b30f23cb-975e-4919-b030-8697906fee4a",
   "metadata": {},
   "outputs": [
    {
     "name": "stdout",
     "output_type": "stream",
     "text": [
      "<class 'str'>\n"
     ]
    }
   ],
   "source": [
    "x1 = str(42)\n",
    "print(type(x1))"
   ]
  },
  {
   "cell_type": "code",
   "execution_count": 20,
   "id": "994305e6-33a3-4ed2-b84f-f5aea86c3d1f",
   "metadata": {},
   "outputs": [],
   "source": [
    "# à compléter : Essayez de convertir les valeurs suivantes : \n",
    "\n",
    "# - un flottant en entier\n",
    "# - une chaine de caractère représentant un nombre, en entier\n",
    "# - une chaine de caractère ne représentant pas un nombre, en entier\n",
    "# - 0 et un entier non-nul en booléens"
   ]
  },
  {
   "cell_type": "markdown",
   "id": "cefe9352-e169-4828-bd66-72233cd8c6c2",
   "metadata": {},
   "source": [
    "Les booléens peuvent aussi être définis par des comparaisons entre deux valeurs. Les opérateurs de comparaison sont les suivants : \n",
    "- `==` pour l'égalité (**Attention !** : c'est bien `==` et pas `=`)\n",
    "- `<` et `>` pour les comparaisons strictes\n",
    "- `>=` et `<=` pour les comparaisons non strictes"
   ]
  },
  {
   "cell_type": "code",
   "execution_count": 25,
   "id": "73bcebe0-7214-4ced-93d4-c724fd5dc2cc",
   "metadata": {},
   "outputs": [
    {
     "name": "stdout",
     "output_type": "stream",
     "text": [
      "False\n"
     ]
    }
   ],
   "source": [
    "print(3 == 4)"
   ]
  },
  {
   "cell_type": "code",
   "execution_count": 26,
   "id": "d39f4eee-f5dc-4221-b231-7f290f3f9b01",
   "metadata": {},
   "outputs": [
    {
     "name": "stdout",
     "output_type": "stream",
     "text": [
      "True\n"
     ]
    }
   ],
   "source": [
    "print(3 == 3.0)"
   ]
  },
  {
   "cell_type": "code",
   "execution_count": 28,
   "id": "a237e381-7c15-4b16-92f3-77734fd7d844",
   "metadata": {},
   "outputs": [],
   "source": [
    "#à compléter : écrivez une comparaison avec \"3\" pour chaque opérateur, afin qu'elles soient toutes vraies"
   ]
  },
  {
   "cell_type": "markdown",
   "id": "438def8e-aa43-4adf-bf87-89459c24929e",
   "metadata": {},
   "source": [
    "### Conditions, boucles et fonctions\n",
    "Pour l'instant, tout ce que vous avez fait en python aurait pu être fait sur une calculatrice. Pas très utile, donc. \n",
    "\n",
    "Heureusement, le language python ne se limite pas à ça ! \n",
    "\n",
    "#### Les instructions conditionnelles\n",
    "Les instructions conditionelles permettent de d'exécuter du code différent en fonction d'une condition. \n",
    "\n",
    "La syntaxe est la suivante : \n",
    "```\n",
    "if condition:\n",
    "    #faire quelque chose\n",
    "elif condition: \n",
    "    #faire quelque chose\n",
    "else: \n",
    "    #faire quelque chose\n",
    "```\n",
    "\n",
    "La première instruction, `if` (si en anglais), execute son bloc si la condition est vérifié. \\\n",
    "On peut ensuite avoir un nombre quelconque (0 ou plus) instructions `elif`, qui s'executent si : \n",
    "- les conditions précédentes n'ont pas été vérifiées\n",
    "- la condition du `elif` est vérifiée\n",
    "Enfin, on peut avoir (optionel) un bloc `else`, qui s'execute si aucune des conditions précédentes n'ont été vérifiées.\n",
    "\n",
    "Les conditions sont des booléens : on peut écrire `false` directement, mais ça n'a pas beaucoup d'interêt. La plupart du temps, la condition sera \n",
    "- soit une variable qui contient un booléen\n",
    "- soit une comparaisons entre deux valeurs"
   ]
  },
  {
   "cell_type": "code",
   "execution_count": 30,
   "id": "39a73cd4-b20b-4ce8-9843-31f12d3c40f9",
   "metadata": {},
   "outputs": [],
   "source": [
    "# Cette case produit un nombre entier aléatoire entre 0 et 999. Pas besoin de retenir comment pour l'instant ! \n",
    "import random\n",
    "valeur_aleatoire = random.randint(0, 1000)"
   ]
  },
  {
   "cell_type": "code",
   "execution_count": 32,
   "id": "50467ab2-6604-4c4d-846b-d34c8ee68895",
   "metadata": {},
   "outputs": [
    {
     "name": "stdout",
     "output_type": "stream",
     "text": [
      "La valeur aleatoire est inférieure à 500 !\n"
     ]
    }
   ],
   "source": [
    "if True: #à compléter : remplacez \"True\" par une condition qui est vrai si la valeur aléatoire est supérieur à 500\n",
    "    print(\"La valeur aleatoire est inférieure à 500 !\")\n",
    "else:\n",
    "    print(\"La valeur aleatoire est supérieure à 500 !\")"
   ]
  },
  {
   "cell_type": "markdown",
   "id": "e6d70893-3995-40ea-a5a8-7aada00f349a",
   "metadata": {},
   "source": [
    "Maintenant, écrivez un code qui \n",
    "- multiplie la valeur par 100 si elle est inférieur à 500\n",
    "- multiplie la valeur par -1 si elle est égale à 500\n",
    "- divise la valeur par 100 sinon"
   ]
  },
  {
   "cell_type": "code",
   "execution_count": 33,
   "id": "63a411de-37c1-483a-8785-be2f82b0fdd2",
   "metadata": {},
   "outputs": [],
   "source": [
    "#à compléter"
   ]
  },
  {
   "cell_type": "markdown",
   "id": "aaa6d80a-593a-429c-9948-2c0ec06296a6",
   "metadata": {},
   "source": [
    "#### Boucles"
   ]
  },
  {
   "cell_type": "code",
   "execution_count": null,
   "id": "5353342e-f283-4c22-8428-163a4ba6fe17",
   "metadata": {},
   "outputs": [],
   "source": []
  }
 ],
 "metadata": {
  "kernelspec": {
   "display_name": "project",
   "language": "python",
   "name": "project"
  },
  "language_info": {
   "codemirror_mode": {
    "name": "ipython",
    "version": 3
   },
   "file_extension": ".py",
   "mimetype": "text/x-python",
   "name": "python",
   "nbconvert_exporter": "python",
   "pygments_lexer": "ipython3",
   "version": "3.13.5"
  }
 },
 "nbformat": 4,
 "nbformat_minor": 5
}
